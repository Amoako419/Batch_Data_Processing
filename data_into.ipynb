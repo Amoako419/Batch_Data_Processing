{
 "cells": [
  {
   "cell_type": "code",
   "execution_count": 1,
   "metadata": {},
   "outputs": [],
   "source": [
    "import pandas as pd\n",
    "from dotenv import load_dotenv\n",
    "import os\n",
    "import mysql.connector\n",
    "from mysql.connector import Error"
   ]
  },
  {
   "cell_type": "code",
   "execution_count": 2,
   "metadata": {},
   "outputs": [],
   "source": [
    "songs = pd.read_csv('data/songs/songs.csv')"
   ]
  },
  {
   "cell_type": "code",
   "execution_count": 3,
   "metadata": {},
   "outputs": [
    {
     "data": {
      "text/plain": [
       "Index(['id', 'track_id', 'artists', 'album_name', 'track_name', 'popularity',\n",
       "       'duration_ms', 'explicit', 'danceability', 'energy', 'key', 'loudness',\n",
       "       'mode', 'speechiness', 'acousticness', 'instrumentalness', 'liveness',\n",
       "       'valence', 'tempo', 'time_signature', 'track_genre'],\n",
       "      dtype='object')"
      ]
     },
     "execution_count": 3,
     "metadata": {},
     "output_type": "execute_result"
    }
   ],
   "source": [
    "songs.columns"
   ]
  },
  {
   "cell_type": "code",
   "execution_count": 4,
   "metadata": {},
   "outputs": [
    {
     "data": {
      "text/plain": [
       "id                  0\n",
       "track_id            0\n",
       "artists             1\n",
       "album_name          1\n",
       "track_name          1\n",
       "popularity          0\n",
       "duration_ms         0\n",
       "explicit            0\n",
       "danceability        0\n",
       "energy              0\n",
       "key                 0\n",
       "loudness            0\n",
       "mode                0\n",
       "speechiness         0\n",
       "acousticness        0\n",
       "instrumentalness    0\n",
       "liveness            0\n",
       "valence             0\n",
       "tempo               0\n",
       "time_signature      0\n",
       "track_genre         0\n",
       "dtype: int64"
      ]
     },
     "execution_count": 4,
     "metadata": {},
     "output_type": "execute_result"
    }
   ],
   "source": [
    "songs.isnull().sum()"
   ]
  },
  {
   "cell_type": "code",
   "execution_count": 5,
   "metadata": {},
   "outputs": [
    {
     "name": "stdout",
     "output_type": "stream",
     "text": [
      "<class 'pandas.core.frame.DataFrame'>\n",
      "RangeIndex: 89741 entries, 0 to 89740\n",
      "Data columns (total 21 columns):\n",
      " #   Column            Non-Null Count  Dtype  \n",
      "---  ------            --------------  -----  \n",
      " 0   id                89741 non-null  int64  \n",
      " 1   track_id          89741 non-null  object \n",
      " 2   artists           89740 non-null  object \n",
      " 3   album_name        89740 non-null  object \n",
      " 4   track_name        89740 non-null  object \n",
      " 5   popularity        89741 non-null  int64  \n",
      " 6   duration_ms       89741 non-null  int64  \n",
      " 7   explicit          89741 non-null  bool   \n",
      " 8   danceability      89741 non-null  float64\n",
      " 9   energy            89741 non-null  float64\n",
      " 10  key               89741 non-null  int64  \n",
      " 11  loudness          89741 non-null  float64\n",
      " 12  mode              89741 non-null  int64  \n",
      " 13  speechiness       89741 non-null  float64\n",
      " 14  acousticness      89741 non-null  float64\n",
      " 15  instrumentalness  89741 non-null  float64\n",
      " 16  liveness          89741 non-null  float64\n",
      " 17  valence           89741 non-null  float64\n",
      " 18  tempo             89741 non-null  float64\n",
      " 19  time_signature    89741 non-null  int64  \n",
      " 20  track_genre       89741 non-null  object \n",
      "dtypes: bool(1), float64(9), int64(6), object(5)\n",
      "memory usage: 13.8+ MB\n"
     ]
    }
   ],
   "source": [
    "songs.info()"
   ]
  },
  {
   "cell_type": "code",
   "execution_count": 6,
   "metadata": {},
   "outputs": [],
   "source": [
    "user = pd.read_csv('data/users/users.csv')"
   ]
  },
  {
   "cell_type": "code",
   "execution_count": 7,
   "metadata": {},
   "outputs": [
    {
     "name": "stdout",
     "output_type": "stream",
     "text": [
      "<class 'pandas.core.frame.DataFrame'>\n",
      "RangeIndex: 50000 entries, 0 to 49999\n",
      "Data columns (total 5 columns):\n",
      " #   Column        Non-Null Count  Dtype \n",
      "---  ------        --------------  ----- \n",
      " 0   user_id       50000 non-null  int64 \n",
      " 1   user_name     50000 non-null  object\n",
      " 2   user_age      50000 non-null  int64 \n",
      " 3   user_country  50000 non-null  object\n",
      " 4   created_at    50000 non-null  object\n",
      "dtypes: int64(2), object(3)\n",
      "memory usage: 1.9+ MB\n"
     ]
    }
   ],
   "source": [
    "user.info()"
   ]
  },
  {
   "cell_type": "code",
   "execution_count": 44,
   "metadata": {},
   "outputs": [],
   "source": [
    "# reading all the data \n",
    "songs = pd.read_csv('data/songs/songs.csv')\n",
    "user = pd.read_csv('data/users/users.csv')\n",
    "streams1 = pd.read_csv('data/streams/streams1.csv')\n",
    "streams2 = pd.read_csv('data/streams/streams2.csv')\n",
    "streams3 = pd.read_csv('data/streams/streams3.csv')\n"
   ]
  },
  {
   "cell_type": "code",
   "execution_count": 45,
   "metadata": {},
   "outputs": [
    {
     "name": "stdout",
     "output_type": "stream",
     "text": [
      "<class 'pandas.core.frame.DataFrame'>\n",
      "Index: 34038 entries, 0 to 11345\n",
      "Data columns (total 3 columns):\n",
      " #   Column       Non-Null Count  Dtype \n",
      "---  ------       --------------  ----- \n",
      " 0   user_id      34038 non-null  int64 \n",
      " 1   track_id     34038 non-null  object\n",
      " 2   listen_time  34038 non-null  object\n",
      "dtypes: int64(1), object(2)\n",
      "memory usage: 1.0+ MB\n"
     ]
    }
   ],
   "source": [
    "streams = pd.concat([streams1, streams2, streams3])\n",
    "streams.info()"
   ]
  },
  {
   "cell_type": "code",
   "execution_count": 46,
   "metadata": {},
   "outputs": [
    {
     "data": {
      "text/plain": [
       "Index(['id', 'track_id', 'artists', 'album_name', 'track_name', 'popularity',\n",
       "       'duration_ms', 'explicit', 'danceability', 'energy', 'key', 'loudness',\n",
       "       'mode', 'speechiness', 'acousticness', 'instrumentalness', 'liveness',\n",
       "       'valence', 'tempo', 'time_signature', 'track_genre'],\n",
       "      dtype='object')"
      ]
     },
     "execution_count": 46,
     "metadata": {},
     "output_type": "execute_result"
    }
   ],
   "source": [
    "songs.columns"
   ]
  },
  {
   "cell_type": "code",
   "execution_count": 47,
   "metadata": {},
   "outputs": [
    {
     "data": {
      "text/plain": [
       "Index(['user_id', 'user_name', 'user_age', 'user_country', 'created_at'], dtype='object')"
      ]
     },
     "execution_count": 47,
     "metadata": {},
     "output_type": "execute_result"
    }
   ],
   "source": [
    "user.columns"
   ]
  },
  {
   "cell_type": "code",
   "execution_count": 48,
   "metadata": {},
   "outputs": [],
   "source": [
    "user.rename(columns={'user_id':'id'}, inplace=True)"
   ]
  },
  {
   "cell_type": "code",
   "execution_count": 49,
   "metadata": {},
   "outputs": [],
   "source": [
    "# merging user and songs data\n",
    "user_songs = songs.merge(user, on='id', how='outer')"
   ]
  },
  {
   "cell_type": "code",
   "execution_count": 50,
   "metadata": {},
   "outputs": [
    {
     "name": "stdout",
     "output_type": "stream",
     "text": [
      "<class 'pandas.core.frame.DataFrame'>\n",
      "RangeIndex: 95551 entries, 0 to 95550\n",
      "Data columns (total 25 columns):\n",
      " #   Column            Non-Null Count  Dtype  \n",
      "---  ------            --------------  -----  \n",
      " 0   id                95551 non-null  int64  \n",
      " 1   track_id          89741 non-null  object \n",
      " 2   artists           89740 non-null  object \n",
      " 3   album_name        89740 non-null  object \n",
      " 4   track_name        89740 non-null  object \n",
      " 5   popularity        89741 non-null  float64\n",
      " 6   duration_ms       89741 non-null  float64\n",
      " 7   explicit          89741 non-null  object \n",
      " 8   danceability      89741 non-null  float64\n",
      " 9   energy            89741 non-null  float64\n",
      " 10  key               89741 non-null  float64\n",
      " 11  loudness          89741 non-null  float64\n",
      " 12  mode              89741 non-null  float64\n",
      " 13  speechiness       89741 non-null  float64\n",
      " 14  acousticness      89741 non-null  float64\n",
      " 15  instrumentalness  89741 non-null  float64\n",
      " 16  liveness          89741 non-null  float64\n",
      " 17  valence           89741 non-null  float64\n",
      " 18  tempo             89741 non-null  float64\n",
      " 19  time_signature    89741 non-null  float64\n",
      " 20  track_genre       89741 non-null  object \n",
      " 21  user_name         50000 non-null  object \n",
      " 22  user_age          50000 non-null  float64\n",
      " 23  user_country      50000 non-null  object \n",
      " 24  created_at        50000 non-null  object \n",
      "dtypes: float64(15), int64(1), object(9)\n",
      "memory usage: 18.2+ MB\n"
     ]
    }
   ],
   "source": [
    "user_songs.info()"
   ]
  },
  {
   "cell_type": "code",
   "execution_count": 58,
   "metadata": {},
   "outputs": [],
   "source": [
    "streams.rename(columns={'listen_time':'created_at'}, inplace=True)"
   ]
  },
  {
   "cell_type": "code",
   "execution_count": 59,
   "metadata": {},
   "outputs": [
    {
     "data": {
      "text/plain": [
       "Index(['user_id', 'track_id', 'created_at'], dtype='object')"
      ]
     },
     "execution_count": 59,
     "metadata": {},
     "output_type": "execute_result"
    }
   ],
   "source": [
    "streams.columns"
   ]
  },
  {
   "cell_type": "code",
   "execution_count": null,
   "metadata": {},
   "outputs": [],
   "source": [
    "user_songs[\"created_at\"] = pd.to_datetime(user_songs[\"created_at\"]).dt.date\n",
    "streams[\"created_at\"] = pd.to_datetime(streams[\"created_at\"]).dt.date\n",
    "\n",
    "#  Extract `stream_hour` from `created_at`\n",
    "user_songs[\"stream_hour\"] = pd.to_datetime(user_songs[\"created_at\"]).dt.hour\n",
    "streams[\"stream_hour\"] = pd.to_datetime(streams[\"created_at\"]).dt.hour"
   ]
  },
  {
   "cell_type": "code",
   "execution_count": 104,
   "metadata": {},
   "outputs": [
    {
     "data": {
      "text/plain": [
       "0        NaN\n",
       "1        0.0\n",
       "2        0.0\n",
       "3        0.0\n",
       "4        0.0\n",
       "        ... \n",
       "11341    0.0\n",
       "11342    0.0\n",
       "11343    0.0\n",
       "11344    0.0\n",
       "11345    0.0\n",
       "Name: stream_hour, Length: 34038, dtype: float64"
      ]
     },
     "execution_count": 104,
     "metadata": {},
     "output_type": "execute_result"
    }
   ],
   "source": [
    "streams[\"stream_hour\"] = pd.to_datetime(streams[\"created_at\"]).dt.hour\n",
    "streams[\"stream_hour\"]"
   ]
  },
  {
   "cell_type": "code",
   "execution_count": 92,
   "metadata": {},
   "outputs": [
    {
     "data": {
      "text/plain": [
       "0              NaT\n",
       "1       2024-02-07\n",
       "2       2024-11-28\n",
       "3       2024-11-16\n",
       "4       2024-06-14\n",
       "           ...    \n",
       "95546          NaT\n",
       "95547          NaT\n",
       "95548          NaT\n",
       "95549          NaT\n",
       "95550          NaT\n",
       "Name: stream_hour, Length: 95551, dtype: datetime64[ns]"
      ]
     },
     "execution_count": 92,
     "metadata": {},
     "output_type": "execute_result"
    }
   ],
   "source": [
    "user_songs[\"stream_hour\"] = pd.to_datetime(user_songs[\"created_at\"])\n",
    "user_songs[\"stream_hour\"]"
   ]
  },
  {
   "cell_type": "code",
   "execution_count": 61,
   "metadata": {},
   "outputs": [
    {
     "data": {
      "text/plain": [
       "Index(['user_id', 'track_id', 'created_at', 'stream_hour'], dtype='object')"
      ]
     },
     "execution_count": 61,
     "metadata": {},
     "output_type": "execute_result"
    }
   ],
   "source": [
    "streams.columns"
   ]
  },
  {
   "cell_type": "code",
   "execution_count": 62,
   "metadata": {},
   "outputs": [
    {
     "data": {
      "text/plain": [
       "Index(['id', 'track_id', 'artists', 'album_name', 'track_name', 'popularity',\n",
       "       'duration_ms', 'explicit', 'danceability', 'energy', 'key', 'loudness',\n",
       "       'mode', 'speechiness', 'acousticness', 'instrumentalness', 'liveness',\n",
       "       'valence', 'tempo', 'time_signature', 'track_genre', 'user_name',\n",
       "       'user_age', 'user_country', 'created_at', 'stream_hour'],\n",
       "      dtype='object')"
      ]
     },
     "execution_count": 62,
     "metadata": {},
     "output_type": "execute_result"
    }
   ],
   "source": [
    "user_songs.columns"
   ]
  },
  {
   "cell_type": "code",
   "execution_count": 68,
   "metadata": {},
   "outputs": [
    {
     "data": {
      "text/plain": [
       "created_at\n",
       "2024-01-01    129\n",
       "2024-01-02    122\n",
       "2024-01-03    124\n",
       "2024-01-04    125\n",
       "2024-01-05    126\n",
       "             ... \n",
       "2024-12-26    122\n",
       "2024-12-27    125\n",
       "2024-12-28    145\n",
       "2024-12-29    128\n",
       "2024-12-30    123\n",
       "Name: track_id, Length: 365, dtype: int64"
      ]
     },
     "execution_count": 68,
     "metadata": {},
     "output_type": "execute_result"
    }
   ],
   "source": [
    "unique_tracks_count = user_songs.groupby('created_at')['track_id'].nunique()\n",
    "unique_tracks_count"
   ]
  },
  {
   "cell_type": "code",
   "execution_count": null,
   "metadata": {},
   "outputs": [
    {
     "data": {
      "text/plain": [
       "created_at\n",
       "2024-01-01    3.887155\n",
       "2024-01-02    4.020401\n",
       "2024-01-03    3.854223\n",
       "2024-01-04    3.955980\n",
       "2024-01-05    3.763470\n",
       "                ...   \n",
       "2024-12-26    3.838317\n",
       "2024-12-27    4.007106\n",
       "2024-12-28    3.653175\n",
       "2024-12-29    3.771716\n",
       "2024-12-30    3.758218\n",
       "Name: duration_ms, Length: 365, dtype: float64"
      ]
     },
     "execution_count": 70,
     "metadata": {},
     "output_type": "execute_result"
    }
   ],
   "source": [
    "# In minutes\n",
    "avg_track_du = (user_songs.groupby('created_at')['duration_ms'].mean()) / 60000\n",
    "avg_track_du"
   ]
  },
  {
   "cell_type": "code",
   "execution_count": 71,
   "metadata": {},
   "outputs": [
    {
     "data": {
      "text/plain": [
       "created_at\n",
       "2024-01-01    30.015504\n",
       "2024-01-02    32.163934\n",
       "2024-01-03    35.927419\n",
       "2024-01-04    30.680000\n",
       "2024-01-05    30.841270\n",
       "                ...    \n",
       "2024-12-26    34.532787\n",
       "2024-12-27    32.792000\n",
       "2024-12-28    36.931034\n",
       "2024-12-29    28.960938\n",
       "2024-12-30    30.252033\n",
       "Name: popularity, Length: 365, dtype: float64"
      ]
     },
     "execution_count": 71,
     "metadata": {},
     "output_type": "execute_result"
    }
   ],
   "source": [
    "popularity_index = user_songs.groupby('created_at')['popularity'].mean()\n",
    "popularity_index"
   ]
  },
  {
   "cell_type": "code",
   "execution_count": 80,
   "metadata": {},
   "outputs": [
    {
     "data": {
      "text/plain": [
       "37152      Hit 'Em Up - Single Version\n",
       "31566                      High Enough\n",
       "20058                Harleys In Hawaii\n",
       "2721              Animal I Have Become\n",
       "37203    All Eyez On Me (ft. Big Syke)\n",
       "                     ...              \n",
       "36008                   Dernière danse\n",
       "2952                   Time to Pretend\n",
       "11071                       Wild World\n",
       "19853            Rock and A Hard Place\n",
       "20601                           Replay\n",
       "Name: track_name, Length: 365, dtype: object"
      ]
     },
     "execution_count": 80,
     "metadata": {},
     "output_type": "execute_result"
    }
   ],
   "source": [
    "# Most popular track\n",
    "most_popular_track = user_songs.loc[user_songs.groupby('created_at')['popularity'].idxmax()]['track_name']\n",
    "most_popular_track"
   ]
  },
  {
   "cell_type": "code",
   "execution_count": 83,
   "metadata": {},
   "outputs": [
    {
     "data": {
      "text/plain": [
       "created_at\n",
       "2024-01-01    140\n",
       "2024-01-02    141\n",
       "2024-01-03    137\n",
       "2024-01-04    143\n",
       "2024-01-05    137\n",
       "             ... \n",
       "2024-12-26    137\n",
       "2024-12-27    133\n",
       "2024-12-28    156\n",
       "2024-12-29    145\n",
       "2024-12-30    143\n",
       "Name: id, Length: 365, dtype: int64"
      ]
     },
     "execution_count": 83,
     "metadata": {},
     "output_type": "execute_result"
    }
   ],
   "source": [
    "# Unique listeners\n",
    "unique_listeners = user_songs.groupby('created_at')['id'].nunique()\n",
    "unique_listeners"
   ]
  },
  {
   "cell_type": "code",
   "execution_count": 101,
   "metadata": {},
   "outputs": [
    {
     "data": {
      "text/plain": [
       "created_at  artists              \n",
       "2024-01-01  The Prophet              2\n",
       "2024-01-02  Jay Daniel               2\n",
       "2024-01-03  The Chemical Brothers    2\n",
       "2024-01-04  Charlie Brown Jr.        2\n",
       "2024-01-05  Ella Fitzgerald          2\n",
       "                                    ..\n",
       "2024-12-26  Indila                   2\n",
       "2024-12-27  Glee Cast                2\n",
       "2024-12-28  Nasum                    2\n",
       "2024-12-29  Kidz Bop Kids            2\n",
       "2024-12-30  Scooter                  2\n",
       "Name: count, Length: 365, dtype: int64"
      ]
     },
     "execution_count": 101,
     "metadata": {},
     "output_type": "execute_result"
    }
   ],
   "source": [
    "#top artist per hour\n",
    "top_artist = user_songs.groupby(['created_at'])['artists'].value_counts().groupby(['created_at']).head(1)\n",
    "top_artist"
   ]
  },
  {
   "cell_type": "code",
   "execution_count": 105,
   "metadata": {},
   "outputs": [
    {
     "data": {
      "text/plain": [
       "created_at\n",
       "2024-01-01    0.921429\n",
       "2024-01-02    0.865248\n",
       "2024-01-03    0.905109\n",
       "2024-01-04    0.874126\n",
       "2024-01-05    0.919708\n",
       "                ...   \n",
       "2024-12-26    0.890511\n",
       "2024-12-27    0.939850\n",
       "2024-12-28    0.929487\n",
       "2024-12-29    0.882759\n",
       "2024-12-30    0.860140\n",
       "Length: 365, dtype: float64"
      ]
     },
     "execution_count": 105,
     "metadata": {},
     "output_type": "execute_result"
    }
   ],
   "source": [
    "# track diversity index\n",
    "track_diversity_index = user_songs.groupby('created_at')['track_id'].nunique() / user_songs.groupby('created_at')['id'].nunique()\n",
    "track_diversity_index"
   ]
  }
 ],
 "metadata": {
  "kernelspec": {
   "display_name": "Python 3",
   "language": "python",
   "name": "python3"
  },
  "language_info": {
   "codemirror_mode": {
    "name": "ipython",
    "version": 3
   },
   "file_extension": ".py",
   "mimetype": "text/x-python",
   "name": "python",
   "nbconvert_exporter": "python",
   "pygments_lexer": "ipython3",
   "version": "3.12.4"
  }
 },
 "nbformat": 4,
 "nbformat_minor": 2
}
